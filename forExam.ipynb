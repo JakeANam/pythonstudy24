{
  "nbformat": 4,
  "nbformat_minor": 0,
  "metadata": {
    "colab": {
      "provenance": [],
      "authorship_tag": "ABX9TyPB0uj39l7kzBXgrQGV4FoN",
      "include_colab_link": true
    },
    "kernelspec": {
      "name": "python3",
      "display_name": "Python 3"
    },
    "language_info": {
      "name": "python"
    }
  },
  "cells": [
    {
      "cell_type": "markdown",
      "metadata": {
        "id": "view-in-github",
        "colab_type": "text"
      },
      "source": [
        "<a href=\"https://colab.research.google.com/github/JakeANam/pythonstudy24/blob/master/forExam.ipynb\" target=\"_parent\"><img src=\"https://colab.research.google.com/assets/colab-badge.svg\" alt=\"Open In Colab\"/></a>"
      ]
    },
    {
      "cell_type": "markdown",
      "source": [
        "For - while과 같은 반복문이지만 Max값이 있을 때 사용 (ex.구구단)\n",
        "\n",
        "무한 반복문을 종료할 때는 ctrl + c\n",
        "\n",
        "for 변수 in list/tuple/string:\n",
        "  ~\n",
        "  ~\n",
        "\n",
        "java의 향상for문, forEach문과 같다- python에\n",
        "\n",
        "향상for문을 쓰는 이유?\n",
        "  배열, table등 크기, 길이를 모르거나 각 index에서의 처리 방법(실행문)이 같을 때 굳이 처음부터 크기를 임의로 정할 필요없이 객체 사용\n",
        "  그러면 좀더 수월하게 사용 가능"
      ],
      "metadata": {
        "id": "JIEp0ltoBzCB"
      }
    },
    {
      "cell_type": "code",
      "execution_count": null,
      "metadata": {
        "colab": {
          "base_uri": "https://localhost:8080/"
        },
        "id": "OxGp8HEkBqak",
        "outputId": "e2c37891-1364-4106-a9f2-72aa08ceddb8"
      },
      "outputs": [
        {
          "output_type": "stream",
          "name": "stdout",
          "text": [
            "alpha\n",
            "beta\n",
            "gamma\n",
            "delta\n"
          ]
        }
      ],
      "source": [
        "# python 전형적인 for\n",
        "\n",
        "test_list = ['alpha', 'beta', 'gamma', 'delta'];\n",
        "\n",
        "for i in test_list:\n",
        "  print(i)"
      ]
    },
    {
      "cell_type": "code",
      "source": [
        "# 다양한 for문 사용법\n",
        "a = [(1,2,3),(4,5,6),(7,8,9)]\n",
        "for (head,body,foot) in a:\n",
        "  print(\"%d + %d = %d\" % (head, foot, head + foot))"
      ],
      "metadata": {
        "colab": {
          "base_uri": "https://localhost:8080/"
        },
        "id": "YEGDEEP5Er2A",
        "outputId": "2a1bc8c4-8569-4310-8394-63d55f13b47c"
      },
      "execution_count": null,
      "outputs": [
        {
          "output_type": "stream",
          "name": "stdout",
          "text": [
            "1 + 3 = 4\n",
            "4 + 6 = 10\n",
            "7 + 9 = 16\n"
          ]
        }
      ]
    },
    {
      "cell_type": "code",
      "source": [
        "# 총 5명의 학생이 시험봤는데 60점 이상이면 합격 아니면 불합격\n",
        "names = [\"세영\",\"진경\",\"태명\",\"동호\",\"채진\"]\n",
        "scores = [90,25,67,45,80]\n",
        "autoNum = 0\n",
        "\n",
        "for score in scores:\n",
        "  autoNum = autoNum + 1\n",
        "  res = \"%d번 학생 %s, \" %(autoNum, names[autoNum - 1])\n",
        "  if score >= 60:\n",
        "    print(res + \"합격\")\n",
        "  else:\n",
        "    pass"
      ],
      "metadata": {
        "colab": {
          "base_uri": "https://localhost:8080/"
        },
        "id": "cEhoIuZvFZBY",
        "outputId": "e5cc80f7-68e6-4d10-ae3e-9b2dfc8e2972"
      },
      "execution_count": null,
      "outputs": [
        {
          "output_type": "stream",
          "name": "stdout",
          "text": [
            "1번 학생 세영, 합격\n",
            "3번 학생 태명, 합격\n",
            "5번 학생 채진, 합격\n"
          ]
        }
      ]
    },
    {
      "cell_type": "code",
      "source": [
        "#for + continue\n",
        "\n",
        "marks = [90,25,67,45,80]\n",
        "number = 0\n",
        "\n",
        "for mark in marks:\n",
        "  number = number + 1\n",
        "  if mark < 60:\n",
        "    continue\n",
        "  print(\"%d번 학생, 합격\" %number)"
      ],
      "metadata": {
        "colab": {
          "base_uri": "https://localhost:8080/"
        },
        "id": "PS6oSF5sJYWZ",
        "outputId": "3b947112-6ac5-4600-ebe9-e06f52d5d3b3"
      },
      "execution_count": null,
      "outputs": [
        {
          "output_type": "stream",
          "name": "stdout",
          "text": [
            "1번 학생, 합격\n",
            "3번 학생, 합격\n",
            "5번 학생, 합격\n"
          ]
        }
      ]
    },
    {
      "cell_type": "code",
      "source": [
        "#for과 함께쓰이는 range\n",
        "\n",
        "a = range(10)\n",
        "print(a)\n",
        "\n",
        "for i in a:\n",
        "  print(\"\\t %d\" %i)\n",
        "print()\n",
        "print(b)\n",
        "b = range(10, 20)\n",
        "for i in b:\n",
        "  print(\"\\t %d\" %i)\n"
      ],
      "metadata": {
        "colab": {
          "base_uri": "https://localhost:8080/"
        },
        "id": "NlmHC-a1KW3Z",
        "outputId": "9fe90238-12f1-4ebe-d47b-d99701e77d92"
      },
      "execution_count": null,
      "outputs": [
        {
          "output_type": "stream",
          "name": "stdout",
          "text": [
            "range(0, 10)\n",
            "\t 0\n",
            "\t 1\n",
            "\t 2\n",
            "\t 3\n",
            "\t 4\n",
            "\t 5\n",
            "\t 6\n",
            "\t 7\n",
            "\t 8\n",
            "\t 9\n",
            "\n",
            "range(10, 20)\n",
            "\t 10\n",
            "\t 11\n",
            "\t 12\n",
            "\t 13\n",
            "\t 14\n",
            "\t 15\n",
            "\t 16\n",
            "\t 17\n",
            "\t 18\n",
            "\t 19\n"
          ]
        }
      ]
    },
    {
      "cell_type": "code",
      "source": [
        "marks = [36,54,61,95,65,73,58,48,92,75]"
      ],
      "metadata": {
        "id": "eBmh67NTLmSB"
      },
      "execution_count": null,
      "outputs": []
    },
    {
      "cell_type": "code",
      "source": [
        "#다중 for문 구구단 생성\n",
        "\n",
        "for i in range(2, 10):\n",
        "  print(\"%d단\" %i)\n",
        "  for j in range(1, 10):\n",
        "    print(i*j, end = \", \") #뒤에 줄 바꾸지 말고 \", \"넣고 진행\n",
        "  print('')\n"
      ],
      "metadata": {
        "colab": {
          "base_uri": "https://localhost:8080/"
        },
        "id": "iB_BBv9QMDTB",
        "outputId": "3ce4b00e-6421-41bf-96a5-1c9b5daceea4"
      },
      "execution_count": null,
      "outputs": [
        {
          "output_type": "stream",
          "name": "stdout",
          "text": [
            "2단\n",
            "2, 4, 6, 8, 10, 12, 14, 16, 18, \n",
            "3단\n",
            "3, 6, 9, 12, 15, 18, 21, 24, 27, \n",
            "4단\n",
            "4, 8, 12, 16, 20, 24, 28, 32, 36, \n",
            "5단\n",
            "5, 10, 15, 20, 25, 30, 35, 40, 45, \n",
            "6단\n",
            "6, 12, 18, 24, 30, 36, 42, 48, 54, \n",
            "7단\n",
            "7, 14, 21, 28, 35, 42, 49, 56, 63, \n",
            "8단\n",
            "8, 16, 24, 32, 40, 48, 56, 64, 72, \n",
            "9단\n",
            "9, 18, 27, 36, 45, 54, 63, 72, 81, \n"
          ]
        }
      ]
    },
    {
      "cell_type": "code",
      "source": [
        "#list comprehension: 결과를 list로 저장\n",
        "\n",
        "a = [1,2,3,4,5,6,7,8,9]\n",
        "result = []\n",
        "\n",
        "# list comprehension을 사용하지 않는 방법\n",
        "for num in a:\n",
        "  result.append(num*5)\n",
        "  print(result)\n",
        "\n",
        "# list comprehension을 사용하는 방법\n",
        "result = [num * 10 for num in a] # 변수x = [실행문 for 변수y in list ]\n",
        "print(result)\n"
      ],
      "metadata": {
        "colab": {
          "base_uri": "https://localhost:8080/"
        },
        "id": "iGdU_JB-NcsC",
        "outputId": "74c0324a-d988-40dd-9e8b-a42bd510f275"
      },
      "execution_count": null,
      "outputs": [
        {
          "output_type": "stream",
          "name": "stdout",
          "text": [
            "[5]\n",
            "[5, 10]\n",
            "[5, 10, 15]\n",
            "[5, 10, 15, 20]\n",
            "[5, 10, 15, 20, 25]\n",
            "[5, 10, 15, 20, 25, 30]\n",
            "[5, 10, 15, 20, 25, 30, 35]\n",
            "[5, 10, 15, 20, 25, 30, 35, 40]\n",
            "[5, 10, 15, 20, 25, 30, 35, 40, 45]\n",
            "[10, 20, 30, 40, 50, 60, 70, 80, 90]\n"
          ]
        }
      ]
    },
    {
      "cell_type": "code",
      "source": [
        "# 짝수만 3 곱해서 list에\n",
        "\n",
        "even3 = [num * 3 for num in range(1,10) if num%2==0] # if문은 list 뒤에 와야한다, 앞이 아니라\n",
        "print(even3)"
      ],
      "metadata": {
        "colab": {
          "base_uri": "https://localhost:8080/"
        },
        "id": "5ScbAPiwPVQS",
        "outputId": "44113ea7-71f9-4a6d-ca30-ee172c2457e8"
      },
      "execution_count": null,
      "outputs": [
        {
          "output_type": "stream",
          "name": "stdout",
          "text": [
            "[6, 12, 18, 24]\n"
          ]
        }
      ]
    },
    {
      "cell_type": "code",
      "source": [
        "# 미션 스낵자판기\n",
        "# 종류 5개(제품명, 수량, 단가)\n",
        "# 반복구매\n",
        "# 판매 종료 후 통계 생성\n",
        "\n",
        "# 날짜 표시\n",
        "import datetime\n",
        "\n",
        "# 메뉴 인쇄 (start)\n",
        "# parameter: List형 메뉴\n",
        "# return: String형 출력용 메뉴\n",
        "def printMenu(listMenu):\n",
        " menuNum = 0\n",
        " printResult = \"\"\n",
        " for select in listMenu:\n",
        "  menuNum = menuNum + 1\n",
        "  printResult = printResult + \"%d. %s\\n\" %((menuNum), select)\n",
        " return printResult\n",
        "# 메뉴 인쇄 (end)\n",
        "\n",
        "# 상품 입력-for 신상품 입력 & 수정 (start)\n",
        "# return: list형 입력 결과[상품명, 수량, 가격]\n",
        "def wirteSnack():\n",
        "  snackName, snackAmount, snackPrice = \"\", \"\", \"\"\n",
        "  canMove = False # 입력에 문제 없으면 다음단계로\n",
        "  # 상품명: 공백만 있거나 내용 없으면 다시 입력\n",
        "\n",
        "  # 수량 및 가격: 숫자만 입력가능\n",
        "\n",
        "  return [snackName, snackName, snackPrice]\n",
        "# 상품 입력-for 신상품 입력 & 수정 (end)\n",
        "\n",
        "# 입력 내용 공백 확인 (start)\n",
        "# parameter: String 입력내용\n",
        "# return: 비어있거나 space, tab만 있으면 True, 하나라도 아닌 경우(내용이 있으면) False\n",
        "def isOnlyBlank(letter):\n",
        "  isBlank = True\n",
        "  if len(letter) > 0:\n",
        "    for i in letter:\n",
        "      if \" \" != i or \" \" != i:\n",
        "        isBlank = False\n",
        "        break\n",
        "\n",
        "  return isBlank\n",
        "# 입력 내용 공백 확인(end)\n",
        "\n",
        "# 입력 내용 숫자 확인 (start)\n",
        "# parameter: String 입력내용\n",
        "# return: 모두 숫자일 경우 True, 그렇지 않을 경우 False\n",
        "def isOnlyNumber(letter):\n",
        "  isNum = True # 숫자가 아니거나 공백이라면 False\n",
        "  if len(letter) > 0\n",
        "    for i in letter:\n",
        "      for j in range(10):\n",
        "        if str(i) == str(j): break # 같은 숫자라면 멈추고 다음 숫자로\n",
        "        elif str(i) != str(j) and str(j)==\"9\": isNum = False # 마지막까지 같은 숫자가 아닌 다른 문자라면 False\n",
        "      if not isNum:break\n",
        "    else : isNum = False\n",
        "  return isNum\n",
        "# 입력 내용 숫자 확인(end)\n",
        "\n",
        "# 숫자에 ,삽입 (start)\n",
        "# parameter: Int 입력숫자\n",
        "# return: String ,포함된 숫자\n",
        "def addCommaIntoNumber(num):\n",
        "  num = str(num)\n",
        "  newnum = \"\"\n",
        "  while len(num) > 3:\n",
        "    if len(num) > 3:\n",
        "      backnum = num[len(num) - 3 :len(num)]\n",
        "      num = num[0 : len(str(num)) - 3]\n",
        "      newnum = \",\" + backnum + newnum\n",
        "\n",
        "  if len(num) <= 3: newnum = num + newnum\n",
        "  return newnum\n",
        "# 숫자에 ,삽입 (end)\n",
        "\n",
        "\n",
        "\n",
        "# 주메뉴(관리자 메뉴)\n",
        "adminMenu = [\"재고관리\",\"판매개시\",\"시스템종료\"]\n",
        "adminChoice = 0\n",
        "adminId = '20123298'\n",
        "\n",
        "# 재고메뉴\n",
        "stockMenu = [\"재고조회\",\"신상품입력\",\"상품수정 및 삭제\",\"뒤로가기\"]\n",
        "stockChoice = 0\n",
        "\n",
        "# 소비자메뉴\n",
        "saleMenu = [\"금액투입\",\"상품선택\",\"구매결정\",\"잔액반환\",\"뒤로가기\"]\n",
        "saleChoice = 0\n",
        "\n",
        "# 스넥정보[제품명, 제품수량, 제품가격, 제품판매량, 제품매상]\n",
        "snacksInfo= []\n",
        "totalAmount = 0;\n",
        "\n",
        "# 자판기 시동시 표시 내용\n",
        "print(\"현재날짜: \" + str(datetime.date.today()))\n",
        "print(\"자판기 번호: 1******* \\n스낵자판기 운영을 시작합니다.\")\n",
        "\n",
        "# 메인메뉴\n",
        "while adminChoice != '3':\n",
        "  print(\"현재 등록된 상품: %d\" %len(snacksInfo))\n",
        "  print(\"현재 상품 재고: %d\" %totalAmount)\n",
        "  print(printMenu(adminMenu))\n",
        "  adminChoice = input(\"실행할 작업을 선택하십시오: \")\n",
        "\n",
        "# 재고 관리\n",
        "  if adminChoice == '1':\n",
        "    print(\"재고 관리 메뉴\")\n",
        "    while stockChoice != '4':\n",
        "      print(printMenu(stockMenu))\n",
        "      stockChoice = input(\"실행할 작업을 선택하십시오: \")\n",
        "      # 제품 재고 확인\n",
        "      if saleChoice == '1': pass\n",
        "\n",
        "      # 신제품 입력\n",
        "      elif saleChoice == '2':\n",
        "        print(\"%d번째 제품을 입력합니다.\")\n",
        "\n",
        "        #제품명 입력: 공백 입력X\n",
        "        snackName = input(\"제품명을 입력해주십시오.\")\n",
        "\n",
        "      # 상품수정 & 삭제\n",
        "      elif saleChoice == '3': pass\n",
        "\n",
        "      # 잘못된 선택은 재선택\n",
        "      else: print(\"잘못 입력하셨습니다.\")\n",
        "\n",
        "# 판매개시\n",
        "  elif adminChoice == '2'and totalAmount > 0:\n",
        "    print(\"소비자 화면으로 이동하고 판매를 개시합니다.\")\n",
        "    while saleChoice != '5':\n",
        "       print(printMenu(saleMenu))\n",
        "       saleChoice = input(\"실행할 작업을 선택하십시오: \")\n",
        "       if saleChoice == '1': pass\n",
        "       elif saleChoice == '5':\n",
        "          print(\"관리자 번호를 입력하시면 관리자 메뉴로 이동합니다.\")\n",
        "          checkId = input(\"관리자 번호를 잘못입력하시면 취소됩니다: \")\n",
        "          if adminId == checkId: print(\"관리자메뉴로 이동합니다.\")\n",
        "          else: saleChoice == '0'\n",
        "       else: print(\"잘못 입력하셨습니다.\")\n",
        "  elif adminChoice == '2' and totalAmount <= 0:\n",
        "    print(\"재고가 없어 판매를 개시할 수 없습니다.\")\n",
        "\n",
        "# 시스템종료\n",
        "  elif adminChoice == '3':\n",
        "    print(\"정말 종료하시겠습니까? 종료시 오늘 영업 매출이 출력됩니다.\")\n",
        "    confirmExit = input(\"계속하시려면 'y'를 입력해주십시오. 그 외의 입력은 종료 취소로 간주됩니다: \")\n",
        "    if confirmExit == 'y' or confirmExit == 'Y': print(\"시스템을 종료합니다.\")\n",
        "    else: adminChoice = '0'\n",
        "  else: print(\"잘못 입력하셨습니다.\")\n"
      ],
      "metadata": {
        "colab": {
          "base_uri": "https://localhost:8080/"
        },
        "id": "s9dVVr8gQbPa",
        "outputId": "a204e9ed-534e-413f-e46c-14b1b30f0396"
      },
      "execution_count": null,
      "outputs": [
        {
          "output_type": "stream",
          "name": "stdout",
          "text": [
            "현재날짜: 2024-12-23\n",
            "자판기 번호: 1******* \n",
            "스낵자판기 운영을 시작합니다.\n",
            "현재 등록된 상품: 0\n",
            "현재 상품 재고: 0\n",
            "1. 재고관리\n",
            "2. 판매개시\n",
            "3. 시스템종료\n",
            "\n",
            "실행할 작업을 선택하십시오: 2\n",
            "재고가 없어 판매를 개시할 수 없습니다.\n",
            "현재 등록된 상품: 0\n",
            "현재 상품 재고: 0\n",
            "1. 재고관리\n",
            "2. 판매개시\n",
            "3. 시스템종료\n",
            "\n",
            "실행할 작업을 선택하십시오: 3\n",
            "정말 종료하시겠습니까? 종료시 오늘 영업 매출이 출력됩니다.\n",
            "계속하시려면 'y'를 입력해주십시오. 그 외의 입력은 종료 취소로 간주됩니다: ㅛ\n",
            "현재 등록된 상품: 0\n",
            "현재 상품 재고: 0\n",
            "1. 재고관리\n",
            "2. 판매개시\n",
            "3. 시스템종료\n",
            "\n",
            "실행할 작업을 선택하십시오: 3\n",
            "정말 종료하시겠습니까? 종료시 오늘 영업 매출이 출력됩니다.\n",
            "계속하시려면 'y'를 입력해주십시오. 그 외의 입력은 종료 취소로 간주됩니다: Y\n",
            "시스템을 종료합니다.\n"
          ]
        }
      ]
    },
    {
      "cell_type": "code",
      "source": [
        "# 관리자, 스낵 입력, 추가\n",
        "\n",
        "snacks = []\n",
        "amounts = []\n",
        "costs = []\n",
        "\n",
        "print(len(snacks))\n",
        "\n"
      ],
      "metadata": {
        "colab": {
          "base_uri": "https://localhost:8080/"
        },
        "id": "K4uFFthHQ9TC",
        "outputId": "0ca0f80d-bdd4-48f1-b27b-6a6c1be1d22d"
      },
      "execution_count": null,
      "outputs": [
        {
          "output_type": "stream",
          "name": "stdout",
          "text": [
            "0\n"
          ]
        }
      ]
    },
    {
      "cell_type": "code",
      "source": [],
      "metadata": {
        "colab": {
          "base_uri": "https://localhost:8080/"
        },
        "id": "TEGZLLcwTw17",
        "outputId": "552d37de-7926-4287-964e-1a0ac0c84cc1"
      },
      "execution_count": null,
      "outputs": [
        {
          "output_type": "stream",
          "name": "stdout",
          "text": [
            "('감자칩', '감자칩')\n"
          ]
        }
      ]
    }
  ]
}