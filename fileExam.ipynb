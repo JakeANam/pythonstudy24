{
  "nbformat": 4,
  "nbformat_minor": 0,
  "metadata": {
    "colab": {
      "provenance": [],
      "authorship_tag": "ABX9TyOUVYdyizXKHxoXp9eqBXo1",
      "include_colab_link": true
    },
    "kernelspec": {
      "name": "python3",
      "display_name": "Python 3"
    },
    "language_info": {
      "name": "python"
    }
  },
  "cells": [
    {
      "cell_type": "markdown",
      "metadata": {
        "id": "view-in-github",
        "colab_type": "text"
      },
      "source": [
        "<a href=\"https://colab.research.google.com/github/JakeANam/pythonstudy24/blob/master/fileExam.ipynb\" target=\"_parent\"><img src=\"https://colab.research.google.com/assets/colab-badge.svg\" alt=\"Open In Colab\"/></a>"
      ]
    },
    {
      "cell_type": "markdown",
      "source": [
        "Python으로 파일 읽고 써보자\n",
        "\n",
        "실무에서 엑셀파일 사용법? - csv파일로 저장해서 불러와 데이터 분석에 사용\n",
        "\n",
        "※ Python으로 프론트엔드(웹디자인)이 가능하다! - Django\n",
        "\n",
        "-\n",
        "현재 colab으로 실습을 진행하면 Google에서 제공하는 vm사용\n",
        "Linux 커널로 되어 있어 content directoru에 저장됨\n",
        "c:\\로 된 것은 윈도우 커널로 파이참에서 실습!\n",
        "-"
      ],
      "metadata": {
        "id": "zTn2nnGjTU5r"
      }
    },
    {
      "cell_type": "code",
      "execution_count": 6,
      "metadata": {
        "id": "jYXlZfLcTTNj"
      },
      "outputs": [],
      "source": [
        "# 파일 생성 실습\n",
        "f = open(\"새파일.txt\",'w') #open(): 파일 열어서 쓰기\n",
        "\n",
        "for i in range(1,11): #\n",
        "  data = \"%d번째 줄잼 ㅋ\\n\" % i\n",
        "  f.write(data) # file에 data 값 입력\n",
        "\n",
        "f.close() # 연 파일 닫기\n",
        "\n",
        "# 파일 권한 부여\n",
        "# 'w': 쓰기 가능 모드\n",
        "# 'r': 읽기 가능 모드\n",
        "# 'a': 추가 모드(파일 마지막에 내용 추가)"
      ]
    },
    {
      "cell_type": "code",
      "source": [
        "f = open(\"새파일.txt\",'r') #open(): 파일 열어서 읽기\n",
        "line = f.readline()\n",
        "print(line)\n",
        "f.close() # 연 파일 닫기\n"
      ],
      "metadata": {
        "colab": {
          "base_uri": "https://localhost:8080/"
        },
        "id": "MDns5NYhYUcD",
        "outputId": "c224542d-4642-4782-cf30-b59c9286f66a"
      },
      "execution_count": 13,
      "outputs": [
        {
          "output_type": "stream",
          "name": "stdout",
          "text": [
            "1번째 줄잼 ㅋ\n",
            "\n"
          ]
        }
      ]
    },
    {
      "cell_type": "code",
      "source": [
        "f = open(\"새파일.txt\",'r') #open(): 파일 열어서 읽기\n",
        "while True:\n",
        "  line = f.readline()\n",
        "  if not line: break\n",
        "  print(line, end = '')\n",
        "f.close() # 연 파일 닫기"
      ],
      "metadata": {
        "colab": {
          "base_uri": "https://localhost:8080/"
        },
        "id": "GqydDEJpY2LT",
        "outputId": "b279999a-bd51-424a-cebb-0b1d31f65707"
      },
      "execution_count": 33,
      "outputs": [
        {
          "output_type": "stream",
          "name": "stdout",
          "text": [
            "1번째 줄잼 ㅋ\n",
            "2번째 줄잼 ㅋ\n",
            "3번째 줄잼 ㅋ\n",
            "4번째 줄잼 ㅋ\n",
            "5번째 줄잼 ㅋ\n",
            "6번째 줄잼 ㅋ\n",
            "7번째 줄잼 ㅋ\n",
            "8번째 줄잼 ㅋ\n",
            "9번째 줄잼 ㅋ\n",
            "10번째 줄잼 ㅋ\n"
          ]
        }
      ]
    },
    {
      "cell_type": "code",
      "source": [
        "# .readlines() : 리스트로 저장하기\n",
        "f = open(\"새파일.txt\",'r') #open(): 파일 열어서 읽기\n",
        "lines = f.readlines()\n",
        "for line in lines:\n",
        "  print(line.strip()) # .strip() 없으면 끝날때 한번 더 enter해서 나온다: 줄 끝의 줄 바꿈 문자 제거\n",
        "f.close() # 연 파일 닫기"
      ],
      "metadata": {
        "colab": {
          "base_uri": "https://localhost:8080/"
        },
        "id": "_uAXUi3iZroz",
        "outputId": "300e5781-8ecf-4016-d38c-397e46e456c2"
      },
      "execution_count": 59,
      "outputs": [
        {
          "output_type": "stream",
          "name": "stdout",
          "text": [
            "1번째 행이랑께\n",
            "2번째 행이랑께\n",
            "3번째 행이랑께\n",
            "4번째 행이랑께\n",
            "5번째 행이랑께\n",
            "6번째 행이랑께\n",
            "7번째 행이랑께\n",
            "8번째 행이랑께\n",
            "9번째 행이랑께\n",
            "10번째 행이랑께\n"
          ]
        }
      ]
    },
    {
      "cell_type": "code",
      "source": [
        "# read() : line별로 가져오지 않고 한번에 다 가져오기\n",
        "\n",
        "f = open(\"새파일.txt\",'r')\n",
        "data = f.read()\n",
        "print(data)\n",
        "f.close()"
      ],
      "metadata": {
        "colab": {
          "base_uri": "https://localhost:8080/"
        },
        "id": "SBi_-DSRZrkk",
        "outputId": "bda68e19-1541-4124-a735-ff45b5cefc44"
      },
      "execution_count": 69,
      "outputs": [
        {
          "output_type": "stream",
          "name": "stdout",
          "text": [
            "1번째 행이랑께\n",
            "2번째 행이랑께\n",
            "3번째 행이랑께\n",
            "4번째 행이랑께\n",
            "5번째 행이랑께\n",
            "내용 더 들어간다\n",
            "6번째 행이랑께\n",
            "7번째 행이랑께\n",
            "8번째 행이랑께\n",
            "9번째 행이랑께\n",
            "10번째 행이랑께\n",
            "내용 더 들어간다\n",
            "6번째 행이랑께\n",
            "7번째 행이랑께\n",
            "8번째 행이랑께\n",
            "9번째 행이랑께\n",
            "10번째 행이랑께\n",
            "내용 더 들어간다\n",
            "6번째 행이랑께\n",
            "7번째 행이랑께\n",
            "8번째 행이랑께\n",
            "9번째 행이랑께\n",
            "10번째 행이랑께\n",
            "\n"
          ]
        }
      ]
    },
    {
      "cell_type": "code",
      "source": [
        "# 파일에 새로운 내용 넣기\n",
        "# 원래 내용이 날아가기 때문에 'w'말고 'a'!\n",
        "\n",
        "f = open(\"새파일.txt\",'w')\n",
        "for i in range(1,6):\n",
        "  data = \"%d번째 행이랑께\\n\" % i\n",
        "  f.write(data)\n",
        "f.close()"
      ],
      "metadata": {
        "id": "NIX28r4tbcV7"
      },
      "execution_count": 60,
      "outputs": []
    },
    {
      "cell_type": "code",
      "source": [
        "f = open(\"새파일.txt\",'a') # 내용 추가\n",
        "f.write(\"자 ~내용 더 들어간다\\n\")\n",
        "for i in range(6,11):\n",
        "  data = \"%d번째 행이랑께\\n\" % i\n",
        "  f.write(data)"
      ],
      "metadata": {
        "id": "VNI_gHQxcZZ0"
      },
      "execution_count": 68,
      "outputs": []
    },
    {
      "cell_type": "code",
      "source": [
        "# with() 파일열고 작업 후 자동으로 닫아준다(자동 close())\n",
        "with open(\"LOL.txt\", 'w') as f:\n",
        "  f.write(\"LOLOLOLOL\")"
      ],
      "metadata": {
        "id": "gJ8-rTrkdOW8"
      },
      "execution_count": 70,
      "outputs": []
    }
  ]
}