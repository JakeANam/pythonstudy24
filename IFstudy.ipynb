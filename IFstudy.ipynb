{
  "nbformat": 4,
  "nbformat_minor": 0,
  "metadata": {
    "colab": {
      "provenance": [],
      "authorship_tag": "ABX9TyMTq6/Be232RhB5cuhb8W5d",
      "include_colab_link": true
    },
    "kernelspec": {
      "name": "python3",
      "display_name": "Python 3"
    },
    "language_info": {
      "name": "python"
    }
  },
  "cells": [
    {
      "cell_type": "markdown",
      "metadata": {
        "id": "view-in-github",
        "colab_type": "text"
      },
      "source": [
        "<a href=\"https://colab.research.google.com/github/JakeANam/pythonstudy24/blob/master/IFstudy.ipynb\" target=\"_parent\"><img src=\"https://colab.research.google.com/assets/colab-badge.svg\" alt=\"Open In Colab\"/></a>"
      ]
    },
    {
      "cell_type": "markdown",
      "source": [
        "프로그램의 판단을 할 수 있는 조건문인 IF(만약)\n",
        "\n",
        "결과는 TRUE(참)과 FALSE(거짓)으로 판단\n",
        "\n",
        "\n",
        "\n"
      ],
      "metadata": {
        "id": "c4ND4Sfdnwn6"
      }
    },
    {
      "cell_type": "code",
      "source": [
        "\n",
        "a = \"lol\"\n",
        "a = 5\n",
        "print(a)"
      ],
      "metadata": {
        "colab": {
          "base_uri": "https://localhost:8080/"
        },
        "id": "rlrW9F8c3mEG",
        "outputId": "558c7cf7-b1e9-460d-d404-b070b02ead6d"
      },
      "execution_count": 31,
      "outputs": [
        {
          "output_type": "stream",
          "name": "stdout",
          "text": [
            "5\n"
          ]
        }
      ]
    },
    {
      "cell_type": "code",
      "execution_count": 4,
      "metadata": {
        "colab": {
          "base_uri": "https://localhost:8080/"
        },
        "id": "60HN-Ax5nZ6N",
        "outputId": "5de269df-1b7b-43c5-e64b-e8cdf6a6db87"
      },
      "outputs": [
        {
          "output_type": "stream",
          "name": "stdout",
          "text": [
            "Case 1. 돈이 있으면 택시 타고, 없으면 걸어가자\n",
            "나이쓰, 택시타야지~\n"
          ]
        }
      ],
      "source": [
        "\n",
        "print(\"Case 1. 돈이 있으면 택시 타고, 없으면 걸어가자\")\n",
        "money = True # 돈 있음\n",
        "\n",
        "if money:\n",
        "    print(\"나이쓰, 택시타야지~\") # True일 때\n",
        "else:\n",
        "    print(\"걍 걸어가\") # True일 때\n",
        "# ※ python에는 {} X (: 로 구문 내림 ;는 python에서는 X)\n",
        "# ※ python에서 boolean은 True & False (true & false X 앞에 무조건 대문자)"
      ]
    },
    {
      "cell_type": "code",
      "source": [
        "print(\"Case 2. 돈이 3000원 넘게 있으면 택시 타고, 없으면 걸어가자\")\n",
        "money = 2000\n",
        "\n",
        "if money >= 3000 :\n",
        "    print(\"나이쓰, 택시타야지~\") # True일 때\n",
        "else:\n",
        "    print(\"걍 걸어가\") # False일 때"
      ],
      "metadata": {
        "colab": {
          "base_uri": "https://localhost:8080/"
        },
        "id": "tkdpqXZJwIND",
        "outputId": "3dab87f7-85c3-4ec4-fb80-581f6738f10d"
      },
      "execution_count": 5,
      "outputs": [
        {
          "output_type": "stream",
          "name": "stdout",
          "text": [
            "Case 2. 돈이 3000원 넘게 있으면 택시 타고, 없으면 걸어가자\n",
            "걍 걸어가\n"
          ]
        }
      ]
    },
    {
      "cell_type": "code",
      "source": [
        "# x or y : 둘 중 하나가 true 면 true\n",
        "# x and y : 둘 다 true 면 true\n",
        "# not z : z가 false면 true\n",
        "\n",
        "print(\"Case 3. 돈이 3000원 넘게 있거나 카드가 있으면 택시 타고, 둘다 아니면 걸어가자\")\n",
        "\n",
        "money = 3000\n",
        "card = True\n",
        "conclusion = False\n",
        "\n",
        "if card:\n",
        "    print(\"아싸 카드~\") # True일 때\n",
        "    conclusion = True\n",
        "elif money >= 3000 :\n",
        "    print(\"아싸 돈 있네~\") # True일 때\n",
        "    conclusion = True\n",
        "else:\n",
        "    print(\"아놔 나 거지임?\") # True일 때\n",
        "\n",
        "if conclusion :\n",
        "    print(\"택시타야지~\") # True일 때\n",
        "else:\n",
        "    print(\"걍 걸어가\") # True일 때\n",
        "\n",
        "# python 에서 else if X\n",
        "# elif는 무한정 사용 가능"
      ],
      "metadata": {
        "colab": {
          "base_uri": "https://localhost:8080/"
        },
        "id": "v_3GRdQlw3h0",
        "outputId": "09268ee4-eea7-4eae-d3a1-fb5e89f70034"
      },
      "execution_count": 16,
      "outputs": [
        {
          "output_type": "stream",
          "name": "stdout",
          "text": [
            "Case 3. 돈이 3000원 넘게 있거나 카드가 있으면 택시 타고, 둘다 아니면 걸어가자\n",
            "아싸 카드~\n",
            "택시타야지~\n"
          ]
        }
      ]
    },
    {
      "cell_type": "code",
      "source": [
        "# in , not in\n",
        "# x in list, in , x not in list\n",
        "# x in tuple, in , x not in tuple\n",
        "# x in String, in , x not in String\n",
        "\n",
        "a = [1,2,3] #list\n",
        "1 in a\n",
        "\n",
        "1 not in a"
      ],
      "metadata": {
        "colab": {
          "base_uri": "https://localhost:8080/"
        },
        "id": "WsmcNWhTxBcj",
        "outputId": "a3cb94b4-0041-49a3-8ec1-9e9f5d8a3f63"
      },
      "execution_count": 9,
      "outputs": [
        {
          "output_type": "execute_result",
          "data": {
            "text/plain": [
              "True"
            ]
          },
          "metadata": {},
          "execution_count": 9
        }
      ]
    },
    {
      "cell_type": "code",
      "source": [
        "T = ['a','b','c'] #tuple\n",
        "'a' in T\n"
      ],
      "metadata": {
        "colab": {
          "base_uri": "https://localhost:8080/"
        },
        "id": "Iy-XsbtRzLsc",
        "outputId": "0a1c2773-668c-49cb-969f-3903b4797ed6"
      },
      "execution_count": 15,
      "outputs": [
        {
          "output_type": "execute_result",
          "data": {
            "text/plain": [
              "True"
            ]
          },
          "metadata": {},
          "execution_count": 15
        }
      ]
    },
    {
      "cell_type": "code",
      "source": [
        "'j' not in 'jake'"
      ],
      "metadata": {
        "colab": {
          "base_uri": "https://localhost:8080/"
        },
        "id": "QvixtVqYz9tM",
        "outputId": "48c8f805-1eee-446f-e938-0312f7093a98"
      },
      "execution_count": 10,
      "outputs": [
        {
          "output_type": "execute_result",
          "data": {
            "text/plain": [
              "False"
            ]
          },
          "metadata": {},
          "execution_count": 10
        }
      ]
    },
    {
      "cell_type": "code",
      "source": [
        "print(\"Case 4. 가방에 \\\"돈\\\" 있으면 택시타고 없으면 걸어가자\")\n",
        "bag = ('핸드폰', '보조배터리', '장갑', '돈')\n",
        "\n",
        "if '돈' in bag :\n",
        "    print(\"나이쓰, 택시타야지~\") # True일 때\n",
        "else:\n",
        "    print(\"걍 걸어가\") # True일 때"
      ],
      "metadata": {
        "colab": {
          "base_uri": "https://localhost:8080/"
        },
        "id": "oIJebBBi2sCF",
        "outputId": "8cbf8ecc-45a6-488d-d9d8-1d367411fa72"
      },
      "execution_count": 19,
      "outputs": [
        {
          "output_type": "stream",
          "name": "stdout",
          "text": [
            "Case 4. 가방에 \"돈\" 있으면 택시타고 없으면 걸어가자\n",
            "나이쓰, 택시타야지~\n"
          ]
        }
      ]
    },
    {
      "cell_type": "code",
      "source": [
        "# 조건문에서 아무 일도 하지 않게 설정하고 싶을 때?\n",
        "# 조건문의 참, 거짓에 따라 실행할 행동을 정의하거나 아무 일도 하지 않도록\n",
        "\n",
        "print(\"Case 5. 가방에 \\\"돈\\\" 있으면 가만히 있고 없으면 카드 꺼내자\")\n",
        "\n",
        "bag = ('핸드폰', '보조배터리', '장갑', '돈')\n",
        "\n",
        "if '돈' in bag :\n",
        "    pass # 이 구문은 그냥 넘기기 (이 구문을 공백으로 놓을 수 없다!)\n",
        "else:\n",
        "    print(\"카드 꺼내\")"
      ],
      "metadata": {
        "colab": {
          "base_uri": "https://localhost:8080/"
        },
        "id": "xXgks44955BG",
        "outputId": "17d62f42-ff3e-4ca8-b8bc-65a08f1a6dcd"
      },
      "execution_count": 35,
      "outputs": [
        {
          "output_type": "stream",
          "name": "stdout",
          "text": [
            "Case 5. 가방에 \"돈\" 있으면 가만히 있고 없으면 카드 꺼내자\n"
          ]
        }
      ]
    },
    {
      "cell_type": "code",
      "source": [
        "score = 85\n",
        "\n",
        "if score >= 90 :\n",
        "    print(\"grade: A\")\n",
        "elif score >= 80 :\n",
        "    print(\"grade: B\")\n",
        "else :\n",
        "    print(\"grade: F\")"
      ],
      "metadata": {
        "colab": {
          "base_uri": "https://localhost:8080/"
        },
        "id": "EJEM_DBD73Ye",
        "outputId": "e8047150-57e1-4e07-b126-a87f0792ed42"
      },
      "execution_count": 39,
      "outputs": [
        {
          "output_type": "stream",
          "name": "stdout",
          "text": [
            "grade: B\n"
          ]
        }
      ]
    },
    {
      "cell_type": "code",
      "source": [
        "print(\"Case 5. 가방에 \\\"돈\\\" 있으면 택시타고, 돈이 없지만 카드가 있으면 택시 타고, 다 없으면 걸어가자\")\n",
        "\n",
        "bag = ('핸드폰', '보조배터리', '장갑', '돈')\n",
        "\n",
        "if '돈' in bag :\n",
        "    pass # 이 구문은 그냥 넘기기 (이 구문을 공백으로 놓을 수 없다!)\n",
        "else:\n",
        "    print(\"카드 꺼내\")"
      ],
      "metadata": {
        "colab": {
          "base_uri": "https://localhost:8080/"
        },
        "id": "oJKOzvQY8nOV",
        "outputId": "8c3a2e3d-9777-4600-b79e-b9bc857ffa83"
      },
      "execution_count": 40,
      "outputs": [
        {
          "output_type": "stream",
          "name": "stdout",
          "text": [
            "Case 5. 가방에 \"돈\" 있으면 택시타고, 돈이 없지만 카드가 있으면 택시 타고, 다 없으면 걸어가자\n"
          ]
        }
      ]
    },
    {
      "cell_type": "code",
      "source": [
        "# 패션코딩 ; 최대한 간결하게 코딩하는 방법\n",
        "\n",
        "score = 85\n",
        "\n",
        "if score >= 90 : print(\"grade: A\")\n",
        "elif score >= 80 : print(\"grade: B\")\n",
        "else : print(\"grade: F\")\n"
      ],
      "metadata": {
        "colab": {
          "base_uri": "https://localhost:8080/"
        },
        "id": "IZWhtJem-8Tu",
        "outputId": "fdc5593a-a35b-457e-91f2-0901b9ceecb5"
      },
      "execution_count": 42,
      "outputs": [
        {
          "output_type": "stream",
          "name": "stdout",
          "text": [
            "grade: B\n"
          ]
        }
      ]
    },
    {
      "cell_type": "code",
      "source": [
        "score = 75\n",
        "\n",
        "if score >= 60 : result=\"success\"\n",
        "else : result=\"failure\"\n",
        "print(\"case1: \" + result)\n",
        "\n",
        "# 조건부 표현식\n",
        "# 변수 = 참인 경우의 값 if 조건문 else 거짓인 경우 값\n",
        "score = 55\n",
        "result=\"success\" if score >= 60 else \"failure\"\n",
        "print(\"case2: \" + result)"
      ],
      "metadata": {
        "colab": {
          "base_uri": "https://localhost:8080/"
        },
        "id": "BzjYcA18_eYG",
        "outputId": "090b9ea6-2334-4f73-ad11-32b1ab087a55"
      },
      "execution_count": 60,
      "outputs": [
        {
          "output_type": "stream",
          "name": "stdout",
          "text": [
            "case1: success\n",
            "case2: failure\n"
          ]
        }
      ]
    },
    {
      "cell_type": "code",
      "source": [],
      "metadata": {
        "id": "Jsul0dKWPD5h"
      },
      "execution_count": null,
      "outputs": []
    },
    {
      "cell_type": "code",
      "source": [
        "print(\"성적을 처리해 드립니다.\")\n",
        "\n",
        "# step 1. 성적 입력(숫자 입력)\n",
        "score  = input(\"점수를 입력해주세요.(0 ~ 100)\")\n",
        "errMes = \"경고, 성적을 처리할 수 없습니다.\"\n",
        "grade = \"등급\"\n",
        "\n",
        "# step 2. 성적 입력 확인\n",
        "if not score.isdigit(): print(errMes)\n",
        "else:\n",
        "  score = int(score)\n",
        "\n",
        "  if score < 0 or score > 100: print(errMes)\n",
        "\n",
        "  # step 3. 성적 입력(숫자 입력)\n",
        "  else:\n",
        "    if score < 60: grade = \"F\"+grade\n",
        "    elif score < 70: grade = \"D\"+grade\n",
        "    elif score < 80: grade = \"C\"+grade\n",
        "    elif score < 90: grade = \"B\"+grade\n",
        "    elif score <= 100: grade = \"A\"+grade\n",
        "    print(str(score)+\"점인 당신은 \"+grade+\"입니다.\")"
      ],
      "metadata": {
        "colab": {
          "base_uri": "https://localhost:8080/"
        },
        "id": "bbCaG4YgBDc_",
        "outputId": "d40ce491-3ce0-4f78-d1dc-8d78becb5ac8"
      },
      "execution_count": 158,
      "outputs": [
        {
          "output_type": "stream",
          "name": "stdout",
          "text": [
            "성적을 처리해 드립니다.\n",
            "점수를 입력해주세요.(0 ~ 100)a\n",
            "경고, 성적을 처리할 수 없습니다.\n"
          ]
        }
      ]
    },
    {
      "cell_type": "code",
      "source": [
        "score  = input(\"점수를 입력해주세요.(0 ~ 100)\")\n",
        "a = score.isdigit()\n",
        "print(a)"
      ],
      "metadata": {
        "colab": {
          "base_uri": "https://localhost:8080/"
        },
        "id": "-ZZK06VGOB0S",
        "outputId": "2d632ed9-da5d-4603-db88-bca25fa3d549"
      },
      "execution_count": 130,
      "outputs": [
        {
          "output_type": "stream",
          "name": "stdout",
          "text": [
            "점수를 입력해주세요.(0 ~ 100)a\n",
            "False\n"
          ]
        }
      ]
    },
    {
      "cell_type": "code",
      "source": [
        "a = 50\n",
        "tp = str(type(a))\n",
        "print(tp)\n",
        "print('int' in tp)\n",
        "\n",
        "# grade = 'X'\n",
        "# if score<0 or score>100:\n",
        "#   grade = 'X'\n",
        "\n",
        "# message = \"경고, 성적을 처리할 수 없습니다.\" if grade=='X' else \"당신의 점수는 \" + str(score) + \"점\"\n",
        "# print(message)\n",
        "\n",
        "\n",
        "\n",
        "\n",
        "\n",
        "# kor = input(\"국어 성적을 입력해주세요.(0 ~ 100)\")\n",
        "# checkInt = 'int' in str(type(kor))\n",
        "\n",
        "\n",
        "# print(str(type(kor)))\n",
        "# print(checkInt)\n",
        "\n",
        "# if checkInt:\n",
        "#   eng = input(\"영어 성적을 입력해주세요.(0 ~ 100)\")\n",
        "#   checkInt = 'int' in str(type(eng))\n",
        "# else :\n",
        "#   pass\n",
        "\n",
        "# print(checkInt)\n",
        "\n",
        "# if checkInt:\n",
        "#   mat = input(\"수학 성적을 입력해주세요.(0 ~ 100)\")\n",
        "#   checkInt = 'int' in str(type(mat))\n",
        "# else :\n",
        "#   pass\n",
        "\n",
        "# print(checkInt)\n",
        "\n",
        "# if checkInt:\n",
        "#   print(\"경고! 성적을 처리하지 못했습니다!\")\n",
        "# else:\n",
        "#   print(\"국어:\"+kor+\" 영어:\"+eng+\" 수학:\"+mat)\n"
      ],
      "metadata": {
        "colab": {
          "base_uri": "https://localhost:8080/"
        },
        "id": "Bl3c07uwCRh_",
        "outputId": "018bcf88-b44b-483c-f0e7-f69da3f1b4a8"
      },
      "execution_count": 97,
      "outputs": [
        {
          "output_type": "stream",
          "name": "stdout",
          "text": [
            "<class 'int'>\n",
            "True\n"
          ]
        }
      ]
    }
  ]
}