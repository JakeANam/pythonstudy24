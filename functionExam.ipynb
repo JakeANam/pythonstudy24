{
  "nbformat": 4,
  "nbformat_minor": 0,
  "metadata": {
    "colab": {
      "provenance": [],
      "authorship_tag": "ABX9TyO3xFHh2TSksNhuvLuVRoDh",
      "include_colab_link": true
    },
    "kernelspec": {
      "name": "python3",
      "display_name": "Python 3"
    },
    "language_info": {
      "name": "python"
    }
  },
  "cells": [
    {
      "cell_type": "markdown",
      "metadata": {
        "id": "view-in-github",
        "colab_type": "text"
      },
      "source": [
        "<a href=\"https://colab.research.google.com/github/JakeANam/pythonstudy24/blob/master/functionExam.ipynb\" target=\"_parent\"><img src=\"https://colab.research.google.com/assets/colab-badge.svg\" alt=\"Open In Colab\"/></a>"
      ]
    },
    {
      "cell_type": "markdown",
      "source": [
        "함수: 단일동작을 수행하는 block\n",
        "\n",
        "자바에서는 {}, python에서는 줄단위로 수행\n",
        "\n",
        "프로그램의 3가지 메모리 영역\n",
        "stack 영역: 변수에 기본타입이나 참조타입 연결\n",
        "method 영역: 동작을 보관하고 있다가 호출되면 매개값 처리 후 리턴 제공\n",
        "hip 영역: 객체를 생성해서 주소 보유\n",
        "\n",
        "반복적인 코드 발생 최소화: 함수의 목적"
      ],
      "metadata": {
        "id": "EJvqqYre8Tpd"
      }
    },
    {
      "cell_type": "code",
      "execution_count": null,
      "metadata": {
        "colab": {
          "base_uri": "https://localhost:8080/"
        },
        "id": "6EQ2qxnO8Gh5",
        "outputId": "6c2e5859-8119-40ea-9efa-fc89ec929ab9"
      },
      "outputs": [
        {
          "output_type": "stream",
          "name": "stdout",
          "text": [
            "plus2 값 생성\n",
            "남어진\n"
          ]
        }
      ],
      "source": [
        "#python 함수 구조: def(define)\n",
        "\n",
        "# def 함수명(parameter) :\n",
        "#   실행문~\n",
        "#   return\n",
        "\n",
        "#plus1 시작\n",
        "def plus1(a, b):\n",
        " return a + b\n",
        "#plus1 종료\n",
        "\n",
        "def plus2(a, b):\n",
        "  print(\"plus2 값 생성\")\n",
        "  print(a + b)\n",
        "\n",
        "# return 값이 없다면? (return 값이 void)?\n",
        "# -> return 안 써도 되지만 print()\n",
        "# -> return 값의 위치 잘 생각하자!(함수 맨 마지막이 좋다!)\n",
        "\n",
        "# print(plus1(1, 2))\n",
        "plus2(\"남\", \"어진\")"
      ]
    },
    {
      "cell_type": "code",
      "source": [
        "# 여러 개의 입력값을 받는 함수(*args): 매개 값이 몇개 인지 모를 때(최소 1개 이상)\n",
        "# ※args: 프로그래머끼리 정해놓은 관례(얼마든지 바뀌어도 상관은 X)\n",
        "\n",
        "# 메뉴 인쇄 (start)\n",
        "# parameter: List형 메뉴\n",
        "# return: String형 출력용 메뉴\n",
        "def add_many(*args):\n",
        "  result = 0\n",
        "  for i in args:\n",
        "    result += i\n",
        "  return result\n",
        "\n",
        "print(add_many(9,8,7,6))\n",
        "\n",
        "\n",
        "# print(add_many(range(1,10)))\n"
      ],
      "metadata": {
        "colab": {
          "base_uri": "https://localhost:8080/"
        },
        "id": "OEavIoQwKDY3",
        "outputId": "216cd8ed-a185-4245-e252-36f7ee773a9f"
      },
      "execution_count": null,
      "outputs": [
        {
          "output_type": "stream",
          "name": "stdout",
          "text": [
            "30\n"
          ]
        }
      ]
    },
    {
      "cell_type": "code",
      "source": [
        "def choosePlusOrMultioply(choice, *args):\n",
        "  if choice == \"plus\":\n",
        "    result = 0\n",
        "    for i in args: result += i\n",
        "\n",
        "  elif choice == \"multiply\":\n",
        "    result = 1\n",
        "    for i in args: result *= i\n",
        "\n",
        "  else: result = \"unknown\"\n",
        "  return result"
      ],
      "metadata": {
        "id": "SVkRxDYpMG4_"
      },
      "execution_count": null,
      "outputs": []
    },
    {
      "cell_type": "code",
      "source": [
        "print(\"plus: \" + str(choosePlusOrMultioply(\"plus\",1,2,3,4,5)))\n",
        "print(\"multiply: \" + str(choosePlusOrMultioply(\"multiply\",3,4,5)))\n",
        "print(\"minus: \" + str(choosePlusOrMultioply(\"minus\",3,4,5)))"
      ],
      "metadata": {
        "colab": {
          "base_uri": "https://localhost:8080/"
        },
        "id": "D7B70YWaNIoP",
        "outputId": "b0968db0-9cd6-4607-9309-36f769692abd"
      },
      "execution_count": null,
      "outputs": [
        {
          "output_type": "stream",
          "name": "stdout",
          "text": [
            "plus: 15\n",
            "multiply: 60\n",
            "minus: unknown\n"
          ]
        }
      ]
    },
    {
      "cell_type": "code",
      "source": [
        "# keyward arg(이하 **kwargs): for dictionary\n",
        "\n",
        "def print_kw(**kwargs): print(kwargs)\n",
        "\n",
        "print_kw(LOL=101, YOLO=333)\n",
        "print_kw(id=\"jake\", age=31, nationality=\"korean\", adress=\"Nagoya, Japan\")"
      ],
      "metadata": {
        "colab": {
          "base_uri": "https://localhost:8080/"
        },
        "id": "pkJ1wSj7O2Rw",
        "outputId": "4a8be4a3-480d-4374-a3c1-d23615dc50b4"
      },
      "execution_count": null,
      "outputs": [
        {
          "output_type": "stream",
          "name": "stdout",
          "text": [
            "{'LOL': 101, 'YOLO': 333}\n",
            "{'id': 'jake', 'age': 31, 'nationality': 'korean', 'adress': 'Nagoya, Japan'}\n"
          ]
        }
      ]
    },
    {
      "cell_type": "code",
      "source": [
        "# return값이 2개 이상? - 가능하다!!!(Java에서는 불가능)\n",
        "def checkMultipleReturn(a, b): return a+b, a-b, a*b\n",
        "\n",
        "print (checkMultipleReturn(6, 2))\n",
        "print (checkMultipleReturn(6, 2)[0])"
      ],
      "metadata": {
        "colab": {
          "base_uri": "https://localhost:8080/"
        },
        "id": "PWbq7b-8QSsQ",
        "outputId": "e964a8f1-8d82-4363-9b66-4c58f7487be3"
      },
      "execution_count": null,
      "outputs": [
        {
          "output_type": "stream",
          "name": "stdout",
          "text": [
            "(8, 4, 12)\n",
            "8\n"
          ]
        }
      ]
    },
    {
      "cell_type": "code",
      "source": [
        "# def sayMyself(name, age, male=True): # (매개변수명 = 기본값)\n",
        "# 단, 이렇게는 X: return: ~ return: ~\n",
        "  print(\"나의 이름은 %s 입니다.\" % name)\n",
        "  print(\"나는 %d살 입니다.\" % age)\n",
        "  gender = \"나는 남자입니다.\" if male else \"나는 여자입니다.\"\n",
        "  print(gender)\n",
        "\n",
        "sayMyself(\"Jake\", 31)"
      ],
      "metadata": {
        "colab": {
          "base_uri": "https://localhost:8080/"
        },
        "id": "QXM-u0fzRMGg",
        "outputId": "b0ff6ecf-105d-45b3-f707-f95b24476348"
      },
      "execution_count": null,
      "outputs": [
        {
          "output_type": "stream",
          "name": "stdout",
          "text": [
            "나의 이름은 Jake 입니다.\n",
            "나는 31살 입니다.\n",
            "나는 남자입니다.\n"
          ]
        }
      ]
    },
    {
      "cell_type": "code",
      "source": [
        "# Lambda식: 인터페이스 형태의 실행문이 1개인 code\n",
        "# Java에서는 -> / Javascript에서는 =>\n",
        "# 변수(함수명) = lambda 매개변수 : 실행문\n",
        "\n",
        "add = lambda a,b : a+b\n",
        "print(add(3, 4))"
      ],
      "metadata": {
        "colab": {
          "base_uri": "https://localhost:8080/"
        },
        "id": "niG_0MMlSyGR",
        "outputId": "689e4053-9e75-4e6c-825e-01b70b06fab0"
      },
      "execution_count": null,
      "outputs": [
        {
          "output_type": "stream",
          "name": "stdout",
          "text": [
            "7\n"
          ]
        }
      ]
    }
  ]
}