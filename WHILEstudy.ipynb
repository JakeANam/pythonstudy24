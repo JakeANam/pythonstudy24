{
  "nbformat": 4,
  "nbformat_minor": 0,
  "metadata": {
    "colab": {
      "provenance": [],
      "authorship_tag": "ABX9TyPXIIgVdP9aMRUzZj64oYF8",
      "include_colab_link": true
    },
    "kernelspec": {
      "name": "python3",
      "display_name": "Python 3"
    },
    "language_info": {
      "name": "python"
    }
  },
  "cells": [
    {
      "cell_type": "markdown",
      "metadata": {
        "id": "view-in-github",
        "colab_type": "text"
      },
      "source": [
        "<a href=\"https://colab.research.google.com/github/JakeANam/pythonstudy24/blob/master/WHILEstudy.ipynb\" target=\"_parent\"><img src=\"https://colab.research.google.com/assets/colab-badge.svg\" alt=\"Open In Colab\"/></a>"
      ]
    },
    {
      "cell_type": "markdown",
      "source": [
        "While: 문장을 반복해서 수행해야되는 경우에 활용\n",
        "\n",
        "여러 데이터를 처리해야 하는 경우에 사용\n",
        "같은 종류의 data를 여러번 받아야 할 때 사용(더 큰 프로그램 제작 가능)\n",
        "\n",
        "반복문 중 while vs for?\n",
        "for: max가 있음\n",
        "while: max X (무한대로 만드는 것 가능!)"
      ],
      "metadata": {
        "id": "CcPRyhy_f1Ls"
      }
    },
    {
      "cell_type": "code",
      "source": [
        "# 10번 찍어 안 넘어가는 나무 없다\n",
        "print(\"10번 찍어 안 넘어가는 나무 없대이. 자, 도끼! 함 찍어봐라.\")\n",
        "hitTree = 0\n",
        "\n",
        "while hitTree < 10:\n",
        "  if hitTree < 10:\n",
        "    hitTree = hitTree+1\n",
        "    print(\"%d째요! 쩍!\" % hitTree)\n",
        "\n",
        "# print(str(a)) = print(\"%d\" % a)\n",
        "print(\"봐라, 넘어간다 안카나!\")"
      ],
      "metadata": {
        "colab": {
          "base_uri": "https://localhost:8080/"
        },
        "id": "AUALJCgHf0ge",
        "outputId": "c13a0fb0-26c0-419a-8e98-e34db9cd5ed4"
      },
      "execution_count": 10,
      "outputs": [
        {
          "output_type": "stream",
          "name": "stdout",
          "text": [
            "10번 찍어 안 넘어가는 나무 없대이. 자, 도끼! 함 찍어봐라.\n",
            "1째요! 쩍!\n",
            "2째요! 쩍!\n",
            "3째요! 쩍!\n",
            "4째요! 쩍!\n",
            "5째요! 쩍!\n",
            "6째요! 쩍!\n",
            "7째요! 쩍!\n",
            "8째요! 쩍!\n",
            "9째요! 쩍!\n",
            "10째요! 쩍!\n",
            "봐라, 넘어간다 안카나!\n"
          ]
        }
      ]
    },
    {
      "cell_type": "code",
      "source": [
        "# 콘솔에서 프로그램 만들기\n",
        "number = 0;\n",
        "print(\"진남중 학생관리 프로그램\")\n",
        "prompt = \"\"\"\n",
        "진행하시고자 하는 작업번호를 입력해주십시오.\n",
        "1. 학생가입\n",
        "2. 성적입력\n",
        "3. 성적출력\n",
        "4. 프로그램 종료\n",
        "\"\"\"\n",
        "\n",
        "promptErr = \"\"\n",
        "\n",
        "while number != '4':\n",
        "  print(prompt)\n",
        "  number = input()\n",
        "\n",
        "  if number == '4': \"프로그램을 종료합니다.\"\n",
        "\n"
      ],
      "metadata": {
        "colab": {
          "base_uri": "https://localhost:8080/"
        },
        "id": "jkBgQ3hsixLs",
        "outputId": "7202574d-fb26-4540-c9df-d5aa8079c830"
      },
      "execution_count": 22,
      "outputs": [
        {
          "name": "stdout",
          "output_type": "stream",
          "text": [
            "진남중 학생관리 프로그램\n",
            "\n",
            "진행하시고자 하는 작업번호를 입력해주십시오.\n",
            "1. 학생가입\n",
            "2. 성적입력\n",
            "3. 성적출력\n",
            "4. 프로그램 종료\n",
            "\n",
            "4\n"
          ]
        }
      ]
    },
    {
      "cell_type": "markdown",
      "source": [
        "Jakobie's coffee 커피 자판기운영을 시작합니다.\n",
        "\n",
        "관리자 메뉴\n",
        "프로그램 개시시, or 관리자 호출시 시행\n",
        "\n",
        "제품 재고 조회 - 초기에는 data X, 중간에 진입시 최초 표시\n",
        "신제품 입력\n",
        "제품 재고 관리\n",
        "중간 매출 점검\n",
        "판매 개시\n",
        "프로그램 종료 - 종료 후 매출 확인\n",
        "\n",
        "커피 재고 예\n",
        "커피종류     커피수량     커피가격\n",
        "밀크커피     75           300\n",
        "프림커피     50           300\n",
        "설탕커피     75           200\n",
        "블랙커피     50           200\n",
        "\n",
        "커피 매출 예\n",
        "커피종류    커피판매량   매출\n",
        "밀크커피     75          50,000\n",
        "프림커피     50          45,000\n",
        "설탕커피     75          20,000\n",
        "블랙커피     50          15,000\n",
        "\n",
        "\n",
        "영업 메뉴\n",
        "초기화면\n",
        "투입금액 - 0원부터 시작 - 주어진 화폐만 투입 가능\n",
        "제품선택 - 비용 충분시 1씩 나오게 설정\n",
        "금액투입\n",
        "잔액 - 0원이 아니면 요청시 나오도록\n",
        "\n",
        "가능한 화폐 : 100, 500, 1000, 5000, admin\n",
        "불가능한 화폐는 사용 불가능\n",
        "\n",
        "판매할 커피 재고를 설정합니다.\n",
        "1번째 메뉴\n",
        "\n",
        "\n",
        "\n"
      ],
      "metadata": {
        "id": "la9wbyxXpg1-"
      }
    },
    {
      "cell_type": "code",
      "source": [
        "# 관리자가 커피 가격과 커피명 정하고 개수 입력\n",
        "# 소비자가 커피를 구매, 구매후 잔돈 배출\n",
        "# 판매 종료 후 관리자가 매출을 확인해야함\n",
        "\n",
        "# Jakobie's coffee 커피 자판기운영을 시작합니다.\n",
        "\n",
        "\n",
        "\n"
      ],
      "metadata": {
        "id": "4CetOVgkjfjE"
      },
      "execution_count": 23,
      "outputs": []
    },
    {
      "cell_type": "code",
      "source": [
        "arr1 = ['a','a','c']\n",
        "arr1[0] = 'x'\n",
        "print(arr1)\n",
        "del arr1[1]\n",
        "print(arr1)\n",
        "'c' in arr1\n",
        "arr1 = arr1 + ['y']\n",
        "print(arr1)\n"
      ],
      "metadata": {
        "colab": {
          "base_uri": "https://localhost:8080/"
        },
        "id": "jm0ZPdRMxl7o",
        "outputId": "b6398758-d5f1-4104-8628-8a853e4efa3a"
      },
      "execution_count": 35,
      "outputs": [
        {
          "output_type": "stream",
          "name": "stdout",
          "text": [
            "['x', 'a', 'c']\n",
            "['x', 'c']\n",
            "['x', 'c', 'y']\n"
          ]
        }
      ]
    },
    {
      "cell_type": "code",
      "source": [
        "# 커피 정보, 재고 입력\n",
        "# [[커피 제품명, 커피 수량, 가격, 판매량, 매출]]\n",
        "coffeeName = [] # 커피 제품명\n",
        "coffeeAmount = [] # 커피 수량\n",
        "coffeePrice = [] # 커피 가격\n",
        "coffeeSold = [] # 커피 판매량\n",
        "coffeeIncome = [] # 커피 매출\n",
        "coffeeInfo = []\n",
        "coffeeInform = [[\"밀크커피\", 50, 300, 0, 0], [\"프림커피\", 30, 300, 0, 0]]\n",
        "print(coffeeInform)\n",
        "print(coffeeInform[1][0])\n",
        "\n",
        "if len(coffeeInfo) < 1:\n",
        "  print(\"판매할 커피 정보를 입력합니다.\")\n",
        "  print(\"%d번째 커피 정보\" % (len(coffeeInfo)+1))\n",
        "coffeeName = input(\"커피 이름을 입력해주세요.\")\n",
        "coffeeAmount = input(\"커피 이름을 입력해주세요.\")"
      ],
      "metadata": {
        "colab": {
          "base_uri": "https://localhost:8080/"
        },
        "id": "NjKdtSMFynlI",
        "outputId": "593f8215-a839-4e9f-cadf-dfd8b216484b"
      },
      "execution_count": 50,
      "outputs": [
        {
          "output_type": "stream",
          "name": "stdout",
          "text": [
            "[['밀크커피', 50, 300, 0, 0], ['프림커피', 30, 300, 0, 0]]\n",
            "프림커피\n",
            "판매할 커피 정보를 입력합니다.\n",
            "1번째 커피 정보\n"
          ]
        }
      ]
    },
    {
      "cell_type": "code",
      "source": [],
      "metadata": {
        "id": "1PNF17pg8H3C"
      },
      "execution_count": null,
      "outputs": []
    },
    {
      "cell_type": "code",
      "source": [
        "# 현금 투입\n",
        "cash = ('100', '500', '1000', '5000', 'admin')\n",
        "currentCash = 0;\n",
        "inserted = '1'\n",
        "keepInsert = True\n",
        "print(\"현재 투입금액: %d\" %currentCash)\n",
        "while keepInsert:\n",
        "\n",
        "  inserted = input(\"현금을 투입해주세요\")\n",
        "  for i in cash:\n",
        "    if i == inserted and i != 'admin':\n",
        "      currentCash = currentCash + int(i)\n",
        "      break\n",
        "    elif i == inserted and i == 'admin':\n",
        "      if currentCash>0: print(\"투입된 금액은 모두 배출하였습니다\")\n",
        "      print(\"관리자 설정 메뉴로 이동합니다\")\n",
        "      keepInsert = False\n",
        "      break\n",
        "    elif i == 'admin' and inserted != i:\n",
        "      print(\"사용할 수 없는 화폐입니다\")\n",
        "\n",
        "\n",
        "  # if currentCash>=500: print(\"투입 가능 금액을 초과했습니다.\")\n",
        "  if inserted != 'admin':\n",
        "     print(\"그만 투입하시려면 'Y'를 입력하십시오\")\n",
        "     if input(\"'Y'이외의 문자는 계속 투입하는 것으로 간주됩니다.\") == 'y' and input(\"'Y'이외의 문자는 계속 투입하는 것으로 간주됩니다.\") == 'Y':\n",
        "      print(\"현금 투입을 중단합니다.5\");\n",
        "      keepInsert = False\n",
        "     print(\"현재 투입금액: %d\" %currentCash)\n",
        "\n"
      ],
      "metadata": {
        "colab": {
          "base_uri": "https://localhost:8080/"
        },
        "id": "IYsGOmKB4X3h",
        "outputId": "634d6b17-2db6-4e56-f5d0-a479c0fefbd3"
      },
      "execution_count": 98,
      "outputs": [
        {
          "output_type": "stream",
          "name": "stdout",
          "text": [
            "현재 투입금액: 0\n",
            "현금을 투입해주세요a\n",
            "사용할 수 없는 화폐입니다\n",
            "그만 투입하시려면 'Y'를 입력하십시오\n",
            "'Y'이외의 문자는 계속 투입하는 것으로 간주됩니다.Y\n",
            "현재 투입금액: 0\n",
            "현금을 투입해주세요admin\\\n",
            "사용할 수 없는 화폐입니다\n",
            "그만 투입하시려면 'Y'를 입력하십시오\n",
            "'Y'이외의 문자는 계속 투입하는 것으로 간주됩니다.ad\n",
            "현재 투입금액: 0\n",
            "현금을 투입해주세요admin\n",
            "관리자 설정 메뉴로 이동합니다\n"
          ]
        }
      ]
    },
    {
      "cell_type": "code",
      "source": [
        "currentCash = 2000;\n",
        "coffeeInform = [[\"밀크커피\", 50, 300, 0, 0], [\"설탕커피\", 30, 300, 0, 0], [\"블랙커피\", 30, 200, 0, 0]]\n",
        "coffeeChoice = 0\n",
        "location = 0\n",
        "canPurchase = False\n",
        "keepPurchase = True\n",
        "print(\"현재 투입금액: %d\" %currentCash)\n",
        "print(\"현재 판매가능한 커피 현황입니다.\")\n",
        "\n",
        "print(\"선택\\t커피종류\\t수량\\t가격\")\n",
        "for i in coffeeInform:\n",
        "  location = location + 1\n",
        "  print(\"%d\\t%s\\t%d\\t%d\" %(location, i[0], i[1], i[2]))\n",
        "\n",
        "location = input(\"선택번호를 보고 주문하실 커피를 선택해주십시오: \")\n",
        "\n",
        "while not canPurchase:\n",
        "  if location.isdigit() and int(location)<=len(coffeeInform) and int(location)>0:\n",
        "    print(\"%s 1잔이 나오는 중입니다.\" %coffeeInform[int(location)-1][0])\n",
        "    coffeeInform[int(location)-1][1] = coffeeInform[int(location)-1][1] - 1\n",
        "    coffeeInform[int(location)-1][3] = coffeeInform[int(location)-1][3] + 1\n",
        "    coffeeInform[int(location)-1][4] = coffeeInform[int(location)-1][4] + coffeeInform[int(location)-1][2]\n",
        "    canPurchase = True\n",
        "  else: location = input(\"다시 입력해주십시오\")\n",
        "\n",
        "for i in coffeeInform:\n",
        "  print(i)\n",
        "\n",
        "# for i in coffeeInform:\n",
        "#   if location.isdigit():\n",
        "#     print(location.isdigit())"
      ],
      "metadata": {
        "colab": {
          "base_uri": "https://localhost:8080/"
        },
        "id": "aZAibKcp53i5",
        "outputId": "96f4cb00-bc8d-4d30-bd2b-c6ef1f4563ec"
      },
      "execution_count": 151,
      "outputs": [
        {
          "output_type": "stream",
          "name": "stdout",
          "text": [
            "현재 투입금액: 2000\n",
            "현재 판매가능한 커피 현황입니다.\n",
            "선택\t커피종류\t수량\t가격\n",
            "1\t밀크커피\t50\t300\n",
            "2\t설탕커피\t30\t300\n",
            "3\t블랙커피\t30\t200\n",
            "선택번호를 보고 주문하실 커피를 선택해주십시오: 1\n",
            "밀크커피 1잔이 나오는 중입니다.\n",
            "['밀크커피', 49, 300, 1, 300]\n",
            "['설탕커피', 30, 300, 0, 0]\n",
            "['블랙커피', 30, 200, 0, 0]\n"
          ]
        }
      ]
    }
  ]
}